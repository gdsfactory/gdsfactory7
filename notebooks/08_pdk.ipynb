{
 "cells": [
  {
   "cell_type": "markdown",
   "id": "0",
   "metadata": {},
   "source": [
    "# PDK\n",
    "\n",
    "gdsfactory includes a generic Process Design Kit (PDK), that you can use as an inspiration to create your own.\n",
    "\n",
    "A process design kit (PDK) includes:\n",
    "\n",
    "1. LayerStack: different layers with different thickness, z-position, materials and colors.\n",
    "2. Design rule checking deck DRC: Manufacturing rules capturing min feature size, min spacing ... for the process.\n",
    "3. A library of Fixed or Parametric cells.\n",
    "\n",
    "The PDK allows you to register:\n",
    "\n",
    "- `cell` parametric cells that return Components from a ComponentSpec (string, Component, ComponentFactory or dict). Also known as parametric cell functions.\n",
    "- `cross_section` functions that return CrossSection from a CrossSection Spec (string, CrossSection, CrossSectionFactory or dict).\n",
    "- `layers` that return a GDS Layer (gdslayer, gdspurpose) from a string, an int or a Tuple[int, int].\n",
    "\n",
    "\n",
    "Thanks to activating a PDK you can access components, cross_sections or layers using a string, a function or a dict.\n",
    "\n",
    "Depending on the active pdk:\n",
    "\n",
    "- `get_layer` returns a Layer from the registered layers.\n",
    "- `get_component` returns a Component from the registered cells.\n",
    "- `get_cross_section` returns a CrossSection from the registered cross_sections."
   ]
  },
  {
   "cell_type": "markdown",
   "id": "1",
   "metadata": {},
   "source": [
    "## layers\n",
    "\n",
    "GDS layers are a tuple of two integer number `gdslayer/gdspurpose`\n",
    "\n",
    "You can define all the layers from your PDK:\n",
    "\n",
    "1. From a Klayout `lyp` (layer properties file).\n",
    "2. From scratch, adding all your layers into a class.\n",
    "\n",
    "\n",
    "Lets generate the layers definition code from a KLayout `lyp` file."
   ]
  },
  {
   "cell_type": "code",
   "execution_count": null,
   "id": "2",
   "metadata": {},
   "outputs": [],
   "source": [
    "import pathlib\n",
    "from functools import partial\n",
    "\n",
    "import pytest\n",
    "from pytest_regressions.data_regression import DataRegressionFixture\n",
    "\n",
    "import gdsfactory as gf\n",
    "from gdsfactory.component import Component\n",
    "from gdsfactory.config import PATH\n",
    "from gdsfactory.decorators import has_valid_transformations\n",
    "from gdsfactory.difftest import difftest\n",
    "from gdsfactory.generic_tech import get_generic_pdk\n",
    "from gdsfactory.technology import (\n",
    "    LayerViews,\n",
    "    lyp_to_dataclass,\n",
    "    LayerMap,\n",
    ")\n",
    "from gdsfactory.typings import Layer, LayerSpec\n",
    "\n",
    "gf.config.rich_output()\n",
    "nm = 1e-3"
   ]
  },
  {
   "cell_type": "code",
   "execution_count": null,
   "id": "3",
   "metadata": {},
   "outputs": [],
   "source": [
    "class LayerMapDemo(LayerMap):\n",
    "    WG: Layer = (1, 0)\n",
    "    DEVREC: Layer = (68, 0)\n",
    "    PORT: Layer = (1, 10)\n",
    "    PORTE: Layer = (1, 11)\n",
    "    LABEL_INSTANCES: Layer = (206, 0)\n",
    "    LABEL_SETTINGS: Layer = (202, 0)\n",
    "    LUMERICAL: Layer = (733, 0)\n",
    "    M1: Layer = (41, 0)\n",
    "    M2: Layer = (45, 0)\n",
    "    M3: Layer = (49, 0)\n",
    "    N: Layer = (20, 0)\n",
    "    NP: Layer = (22, 0)\n",
    "    NPP: Layer = (24, 0)\n",
    "    OXIDE_ETCH: Layer = (6, 0)\n",
    "    P: Layer = (21, 0)\n",
    "    PDPP: Layer = (27, 0)\n",
    "    PP: Layer = (23, 0)\n",
    "    PPP: Layer = (25, 0)\n",
    "    PinRec: Layer = (1, 10)\n",
    "    PinRecM: Layer = (1, 11)\n",
    "    SHALLOWETCH: Layer = (2, 6)\n",
    "    SILICIDE: Layer = (39, 0)\n",
    "    SIM_REGION: Layer = (100, 0)\n",
    "    SITILES: Layer = (190, 0)\n",
    "    SLAB150: Layer = (2, 0)\n",
    "    SLAB150CLAD: Layer = (2, 9)\n",
    "    SLAB90: Layer = (3, 0)\n",
    "    SLAB90CLAD: Layer = (3, 1)\n",
    "    SOURCE: Layer = (110, 0)\n",
    "    TE: Layer = (203, 0)\n",
    "    TEXT: Layer = (66, 0)\n",
    "    TM: Layer = (204, 0)\n",
    "    Text: Layer = (66, 0)\n",
    "    VIA1: Layer = (44, 0)\n",
    "    VIA2: Layer = (43, 0)\n",
    "    VIAC: Layer = (40, 0)\n",
    "    WGCLAD: Layer = (111, 0)\n",
    "    WGN: Layer = (34, 0)\n",
    "    WGclad_material: Layer = (36, 0)\n",
    "\n",
    "\n",
    "LAYER = LayerMapDemo()"
   ]
  },
  {
   "cell_type": "markdown",
   "id": "4",
   "metadata": {},
   "source": [
    "some generic components use some\n",
    "\n",
    "| Layer          | Purpose                                                      |\n",
    "| -------------- | ------------------------------------------------------------ |\n",
    "| DEVREC         | device recognition layer. For connectivity checks.           |\n",
    "| PORT           | optical port pins. For connectivity checks.                  |\n",
    "| PORTE          | electrical port pins. For connectivity checks.               |\n",
    "| SHOW_PORTS     | add port pin markers when `Component.show(show_ports=True)`  |\n",
    "| LABEL_INSTANCE | for adding instance labels on `gf.read.from_yaml`            |\n",
    "| MTOP | for top metal routing            |\n",
    "\n",
    "\n",
    "```python\n",
    "class LayersConvenient(LayerMap):\n",
    "    DEVREC: Layer = (68, 0)\n",
    "    PORT: Layer = (1, 10)  # PinRec optical\n",
    "    PORTE: Layer = (1, 11)  # PinRec electrical\n",
    "    SHOW_PORTS: Layer = (1, 12)\n",
    "\n",
    "    LABEL_INSTANCE: Layer = (66, 0)\n",
    "    TE: Layer = (203, 0)\n",
    "    TM: Layer = (204, 0)\n",
    "```"
   ]
  },
  {
   "cell_type": "markdown",
   "id": "5",
   "metadata": {},
   "source": [
    "## cross_sections\n",
    "\n",
    "You can create a `CrossSection` from scratch or you can customize the cross_section functions in `gf.cross_section`"
   ]
  },
  {
   "cell_type": "code",
   "execution_count": null,
   "id": "6",
   "metadata": {},
   "outputs": [],
   "source": [
    "strip2 = partial(gf.cross_section.strip, layer=(2, 0))"
   ]
  },
  {
   "cell_type": "code",
   "execution_count": null,
   "id": "7",
   "metadata": {},
   "outputs": [],
   "source": [
    "c = gf.components.straight(cross_section=strip2)\n",
    "c.plot()"
   ]
  },
  {
   "cell_type": "code",
   "execution_count": null,
   "id": "8",
   "metadata": {},
   "outputs": [],
   "source": [
    "pin = partial(\n",
    "    gf.cross_section.strip,\n",
    "    sections=(\n",
    "        gf.Section(width=2, layer=(20, 0), offset=+1),\n",
    "        gf.Section(width=2, layer=(21, 0), offset=-1),\n",
    "    ),\n",
    ")\n",
    "c = gf.components.straight(cross_section=pin)\n",
    "c.plot()"
   ]
  },
  {
   "cell_type": "code",
   "execution_count": null,
   "id": "9",
   "metadata": {
    "lines_to_next_cell": 2
   },
   "outputs": [],
   "source": [
    "strip_wide = partial(gf.cross_section.strip, width=3)"
   ]
  },
  {
   "cell_type": "code",
   "execution_count": null,
   "id": "10",
   "metadata": {},
   "outputs": [],
   "source": [
    "# auto_widen tapers to wider waveguides for lower loss in long straight sections.\n",
    "strip = partial(gf.cross_section.strip, auto_widen=True)"
   ]
  },
  {
   "cell_type": "code",
   "execution_count": null,
   "id": "11",
   "metadata": {},
   "outputs": [],
   "source": [
    "xs_sc = strip()\n",
    "xs_sc_wide = strip_wide()\n",
    "xs_pin = pin()\n",
    "\n",
    "cross_sections = dict(xs_sc_wide=xs_sc_wide, xs_pin=xs_pin, xs_sc=xs_sc)"
   ]
  },
  {
   "cell_type": "markdown",
   "id": "12",
   "metadata": {},
   "source": [
    "## cells\n",
    "\n",
    "Cells are functions that return Components. They are parametrized and accept also cells as parameters, so you can build many levels of complexity. Cells are also known as PCells or parametric cells.\n",
    "\n",
    "You can customize the function default arguments easily thanks to `functools.partial`\n",
    "Lets customize the default arguments of a library of cells.\n",
    "\n",
    "For example, you can make some wide MMIs for a particular technology. Lets say the best MMI width you found it to be 9um."
   ]
  },
  {
   "cell_type": "code",
   "execution_count": null,
   "id": "13",
   "metadata": {},
   "outputs": [],
   "source": [
    "mmi1x2 = partial(gf.components.mmi1x2, width_mmi=9)\n",
    "mmi2x2 = partial(gf.components.mmi2x2, width_mmi=9)\n",
    "\n",
    "cells = dict(mmi1x2=mmi1x2, mmi2x2=mmi2x2)"
   ]
  },
  {
   "cell_type": "markdown",
   "id": "14",
   "metadata": {},
   "source": [
    "You can define a new PDK by creating function that customize partial parameters of the generic functions.\n",
    "\n",
    "Lets say that this PDK uses layer (41, 0) for the pads (instead of the layer used in the generic pad function)."
   ]
  },
  {
   "cell_type": "code",
   "execution_count": null,
   "id": "15",
   "metadata": {},
   "outputs": [],
   "source": [
    "pad_custom_layer = partial(gf.components.pad, layer=(41, 0))\n",
    "c = pad_custom_layer()\n",
    "c.plot()"
   ]
  },
  {
   "cell_type": "markdown",
   "id": "16",
   "metadata": {},
   "source": [
    "## PDK\n",
    "\n",
    "You can register Layers, ComponentFactories (Parametric cells) and CrossSectionFactories (cross_sections) into a PDK.\n",
    "Then you can access them by a string after you activate the pdk `PDK.activate()`.\n",
    "\n",
    "### LayerSpec\n",
    "\n",
    "You can access layers from the active Pdk using the layer name or a tuple/list of two numbers."
   ]
  },
  {
   "cell_type": "code",
   "execution_count": null,
   "id": "17",
   "metadata": {},
   "outputs": [],
   "source": [
    "from gdsfactory.generic_tech import get_generic_pdk\n",
    "\n",
    "generic_pdk = get_generic_pdk()\n",
    "\n",
    "pdk1 = gf.Pdk(\n",
    "    name=\"fab1\",\n",
    "    layers=dict(LAYER),\n",
    "    cross_sections=cross_sections,\n",
    "    cells=cells,\n",
    "    base_pdk=generic_pdk,\n",
    "    layer_views=generic_pdk.layer_views,\n",
    ")\n",
    "pdk1.activate()"
   ]
  },
  {
   "cell_type": "code",
   "execution_count": null,
   "id": "18",
   "metadata": {},
   "outputs": [],
   "source": [
    "pdk1.get_layer(\"WG\")"
   ]
  },
  {
   "cell_type": "code",
   "execution_count": null,
   "id": "19",
   "metadata": {},
   "outputs": [],
   "source": [
    "pdk1.get_layer([1, 0])"
   ]
  },
  {
   "cell_type": "markdown",
   "id": "20",
   "metadata": {},
   "source": [
    "### CrossSectionSpec\n",
    "\n",
    "You can access cross_sections from the pdk from the cross_section name, or using a dict to customize the CrossSection"
   ]
  },
  {
   "cell_type": "code",
   "execution_count": null,
   "id": "21",
   "metadata": {},
   "outputs": [],
   "source": [
    "pdk1.get_cross_section(\"xs_pin\")"
   ]
  },
  {
   "cell_type": "code",
   "execution_count": null,
   "id": "22",
   "metadata": {},
   "outputs": [],
   "source": [
    "cross_section_spec_string = \"xs_pin\"\n",
    "c = gf.components.straight(cross_section=cross_section_spec_string)\n",
    "c.plot()"
   ]
  },
  {
   "cell_type": "code",
   "execution_count": null,
   "id": "23",
   "metadata": {},
   "outputs": [],
   "source": [
    "cross_section_spec_dict = dict(cross_section=\"xs_pin\", settings=dict(width=2))\n",
    "print(pdk1.get_cross_section(cross_section_spec_dict))\n",
    "wg_pin = gf.components.straight(cross_section=cross_section_spec_dict)\n",
    "wg_pin.plot()"
   ]
  },
  {
   "cell_type": "markdown",
   "id": "24",
   "metadata": {},
   "source": [
    "### ComponentSpec\n",
    "\n",
    "You can get Component from the active pdk using the cell name (string) or a dict."
   ]
  },
  {
   "cell_type": "code",
   "execution_count": null,
   "id": "25",
   "metadata": {},
   "outputs": [],
   "source": [
    "c = pdk1.get_component(\"mmi1x2\")\n",
    "c.plot()"
   ]
  },
  {
   "cell_type": "code",
   "execution_count": null,
   "id": "26",
   "metadata": {},
   "outputs": [],
   "source": [
    "c = pdk1.get_component(dict(component=\"mmi1x2\", settings=dict(length_mmi=10)))\n",
    "c.plot()"
   ]
  },
  {
   "cell_type": "markdown",
   "id": "27",
   "metadata": {},
   "source": [
    "## Testing PDK cells\n",
    "\n",
    "To make sure all your PDK PCells produce the components that you want, it's important to test your PDK cells.\n",
    "\n",
    "As you write your own cell functions you want to make sure you do not break or produced unwanted regressions later on. You should write tests for this.\n",
    "\n",
    "Make sure you create a `test_components.py` file for pytest to test your PDK. See for example the tests in the [ubc PDK](https://github.com/gdsfactory/ubc)\n",
    "\n",
    "Pytest-regressions automatically creates the CSV and YAML files for you, as well `gdsfactory.gdsdiff` will store the reference GDS in ref_layouts and check for geometry differences using XOR.\n",
    "\n",
    "gdsfactory is **not** backwards compatible, which means that the package will keep improving and evolving.\n",
    "\n",
    "1. To make your work stable you should install a specific version and [pin the version](https://martin-thoma.com/python-requirements/) in your `requirements.txt` or `pyproject.toml` as `gdsfactory==7.27.1` replacing `7.27.1` by whatever version you end up using.\n",
    "2. Before you upgrade gdsfactory to a newer version make sure your tests pass to make sure that things behave as expected\n",
    "\n"
   ]
  },
  {
   "cell_type": "code",
   "execution_count": null,
   "id": "28",
   "metadata": {},
   "outputs": [],
   "source": [
    "\"\"\"This code tests all your cells in the PDK\n",
    "\n",
    "it will test 3 things:\n",
    "\n",
    "1. difftest: will test the GDS geometry of a new GDS compared to a reference. Thanks to Klayout fast booleans.add()\n",
    "2. settings test: will compare the settings in YAML with a reference YAML file.add()\n",
    "3. ensure ports are on grid, to avoid port snapping errors that can create 1nm gaps later on when you build circuits.\n",
    "\n",
    "\"\"\"\n",
    "\n",
    "try:\n",
    "    dirpath = pathlib.Path(__file__).absolute().with_suffix(\".gds\")\n",
    "except Exception:\n",
    "    dirpath = pathlib.Path.cwd()\n",
    "\n",
    "\n",
    "component_names = list(pdk1.cells.keys())\n",
    "factory = pdk1.cells\n",
    "\n",
    "\n",
    "@pytest.fixture(params=component_names, scope=\"function\")\n",
    "def component_name(request) -> str:\n",
    "    return request.param\n",
    "\n",
    "\n",
    "def test_gds(component_name: str) -> None:\n",
    "    \"\"\"Avoid regressions in GDS names, shapes and layers.\n",
    "    Runs XOR and computes the area.\"\"\"\n",
    "    component = factory[component_name]()\n",
    "    test_name = f\"fabc_{component_name}\"\n",
    "    difftest(component, test_name=test_name, dirpath=dirpath)\n",
    "\n",
    "\n",
    "def test_settings(component_name: str, data_regression: DataRegressionFixture) -> None:\n",
    "    \"\"\"Avoid regressions in component settings and ports.\"\"\"\n",
    "    component = factory[component_name]()\n",
    "    data_regression.check(component.to_dict())\n",
    "\n",
    "\n",
    "def test_assert_ports_on_grid(component_name: str):\n",
    "    \"\"\"Ensures all ports are on grid to avoid 1nm gaps\"\"\"\n",
    "    component = factory[component_name]()\n",
    "    component.assert_ports_on_grid()"
   ]
  },
  {
   "cell_type": "markdown",
   "id": "29",
   "metadata": {},
   "source": [
    "## Compare gds files\n",
    "\n",
    "You can use the command line `gf gds diff gds1.gds gds2.gds` to overlay `gds1.gds` and `gds2.gds` files and show them in KLayout.\n",
    "\n",
    "For example, if you changed the mmi1x2 and made it 5um longer by mistake, you could `gf gds diff ref_layouts/mmi1x2.gds run_layouts/mmi1x2.gds` and see the GDS differences in Klayout."
   ]
  },
  {
   "cell_type": "code",
   "execution_count": null,
   "id": "30",
   "metadata": {},
   "outputs": [],
   "source": [
    "help(gf.diff)"
   ]
  },
  {
   "cell_type": "code",
   "execution_count": null,
   "id": "31",
   "metadata": {},
   "outputs": [],
   "source": [
    "mmi1 = gf.components.mmi1x2(length_mmi=5)\n",
    "mmi2 = gf.components.mmi1x2(length_mmi=6)\n",
    "gds1 = mmi1.write_gds()\n",
    "gds2 = mmi2.write_gds()\n",
    "gf.diff(gds1, gds2)"
   ]
  },
  {
   "cell_type": "markdown",
   "id": "32",
   "metadata": {},
   "source": [
    "## Version control components\n",
    "\n",
    "For version control your component library you can use GIT\n",
    "\n",
    "For tracking changes you can add `Component` changelog in the PCell docstring."
   ]
  },
  {
   "cell_type": "code",
   "execution_count": null,
   "id": "33",
   "metadata": {},
   "outputs": [],
   "source": [
    "import gdsfactory as gf\n",
    "from gdsfactory.generic_tech import get_generic_pdk\n",
    "from gdsfactory.typings import LayerSpec\n",
    "\n",
    "PDK = get_generic_pdk()\n",
    "PDK.activate()\n",
    "\n",
    "\n",
    "@gf.cell\n",
    "def litho_ruler(\n",
    "    height: float = 2,\n",
    "    width: float = 0.5,\n",
    "    spacing: float = 2.0,\n",
    "    scale: tuple[float, ...] = (3, 1, 1, 1, 1, 2, 1, 1, 1, 1),\n",
    "    num_marks: int = 21,\n",
    "    layer: LayerSpec = (1, 0),\n",
    ") -> gf.Component:\n",
    "    \"\"\"Ruler structure for lithographic measurement.\n",
    "\n",
    "    Includes marks of varying scales to allow for easy reading by eye.\n",
    "\n",
    "    Args:\n",
    "        height: Height of the ruling marks in um.\n",
    "        width: Width of the ruling marks in um.\n",
    "        spacing: Center-to-center spacing of the ruling marks in um.\n",
    "        scale: Height scale pattern of marks.\n",
    "        num_marks: Total number of marks to generate.\n",
    "        layer: Specific layer to put the ruler geometry on.\n",
    "    \"\"\"\n",
    "    c = gf.Component()\n",
    "    for n in range(num_marks):\n",
    "        h = height * scale[n % len(scale)]\n",
    "        _ = c << gf.components.rectangle(size=(width, h), layer=layer)\n",
    "\n",
    "    c.distribute(direction=\"x\", spacing=spacing, separation=False, edge=\"x\")\n",
    "    c.align(alignment=\"ymin\")\n",
    "    return c\n",
    "\n",
    "\n",
    "c = litho_ruler()\n",
    "c.plot()"
   ]
  },
  {
   "cell_type": "markdown",
   "id": "34",
   "metadata": {
    "lines_to_next_cell": 2
   },
   "source": [
    "Lets assume that later on you change the code inside the PCell and want to keep a changelog.\n",
    "You can use the docstring Notes to document any significant changes in the component.\n"
   ]
  },
  {
   "cell_type": "code",
   "execution_count": null,
   "id": "35",
   "metadata": {},
   "outputs": [],
   "source": [
    "@gf.cell\n",
    "def litho_ruler(\n",
    "    height: float = 2,\n",
    "    width: float = 0.5,\n",
    "    spacing: float = 2.0,\n",
    "    scale: tuple[float, ...] = (3, 1, 1, 1, 1, 2, 1, 1, 1, 1),\n",
    "    num_marks: int = 21,\n",
    "    layer: LayerSpec = (1, 0),\n",
    ") -> gf.Component:\n",
    "    \"\"\"Ruler structure for lithographic measurement.\n",
    "\n",
    "    Args:\n",
    "        height: Height of the ruling marks in um.\n",
    "        width: Width of the ruling marks in um.\n",
    "        spacing: Center-to-center spacing of the ruling marks in um.\n",
    "        scale: Height scale pattern of marks.\n",
    "        num_marks: Total number of marks to generate.\n",
    "        layer: Specific layer to put the ruler geometry on.\n",
    "\n",
    "    Notes:\n",
    "        5.6.7: distribute across y instead of x.\n",
    "    \"\"\"\n",
    "    D = gf.Component()\n",
    "    for n in range(num_marks):\n",
    "        h = height * scale[n % len(scale)]\n",
    "        ref = D << gf.components.rectangle(size=(width, h), layer=layer)\n",
    "        ref.rotate(90)\n",
    "\n",
    "    D.distribute(direction=\"y\", spacing=spacing, separation=False, edge=\"y\")\n",
    "    D.align(alignment=\"xmin\")\n",
    "    return D\n",
    "\n",
    "\n",
    "c = litho_ruler()\n",
    "c.plot()"
   ]
  }
 ],
 "metadata": {
  "jupytext": {
   "cell_metadata_filter": "-all",
   "custom_cell_magics": "kql"
  },
  "kernelspec": {
   "display_name": "base",
   "language": "python",
   "name": "python3"
  },
  "language_info": {
   "codemirror_mode": {
    "name": "ipython",
    "version": 3
   },
   "file_extension": ".py",
   "mimetype": "text/x-python",
   "name": "python",
   "nbconvert_exporter": "python",
   "pygments_lexer": "ipython3",
   "version": "3.11.5"
  }
 },
 "nbformat": 4,
 "nbformat_minor": 5
}
